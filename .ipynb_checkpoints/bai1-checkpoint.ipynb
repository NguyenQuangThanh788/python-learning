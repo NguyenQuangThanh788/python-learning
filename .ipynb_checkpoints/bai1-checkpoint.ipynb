{
 "cells": [
  {
   "cell_type": "code",
   "execution_count": 1,
   "id": "15553ac3-ffc2-4449-a6e5-0372f0d9b940",
   "metadata": {},
   "outputs": [
    {
     "name": "stdout",
     "output_type": "stream",
     "text": [
      "hello\n"
     ]
    }
   ],
   "source": [
    "print(\"hello\")\n"
   ]
  },
  {
   "cell_type": "code",
   "execution_count": 1,
   "id": "591b2a97-9e11-4515-ac18-1bbc4a6ad3a9",
   "metadata": {},
   "outputs": [
    {
     "name": "stdout",
     "output_type": "stream",
     "text": [
      " xin chao, hom nay laf 9/9/2025 minh bat dau tu hoc python\n"
     ]
    }
   ],
   "source": [
    "print (\" xin chao, hom nay laf 9/9/2025 minh bat dau tu hoc python\")\n"
   ]
  },
  {
   "cell_type": "code",
   "execution_count": 3,
   "id": "fdfed09b-36e9-4308-9de9-e8305de3ed81",
   "metadata": {},
   "outputs": [
    {
     "name": "stdout",
     "output_type": "stream",
     "text": [
      "Ten cua minh la thanh Thanh\n",
      "Tuoi cua minh la thanh 21\n"
     ]
    }
   ],
   "source": [
    "# bien va gan gia tri\n",
    "ten = \"Thanh\"\n",
    "tuoi = 21\n",
    "diemtb = 9.0\n",
    "print(\"Ten cua minh la thanh\",ten)\n",
    "print(\"Tuoi cua minh la thanh\",tuoi)\n",
    "\n",
    "\n"
   ]
  },
  {
   "cell_type": "code",
   "execution_count": 4,
   "id": "c7ce778f-80ea-402c-9fed-94e36cfcd5d7",
   "metadata": {},
   "outputs": [
    {
     "name": "stdout",
     "output_type": "stream",
     "text": [
      "Tong cua 2 so a va b la:  19\n",
      "Hieu cua 2 so a va b la:  11\n",
      "Tich cua 2 so a va b la:  60\n",
      "Thuong cua 2 so a va b la:  3.75\n"
     ]
    }
   ],
   "source": [
    "#Tính toán với 2 số bất kỳ (ví dụ: 15 và 4) rồi in ra: tổng, hiệu, tích, thương, chia dư.\n",
    "a = 15\n",
    "b = 4\n",
    "Tong = a + b\n",
    "Hieu = a - b\n",
    "Tich = a * b\n",
    "Thuong = a / b\n",
    "print (\"Tong cua 2 so a va b la: \",Tong)\n",
    "print (\"Hieu cua 2 so a va b la: \",Hieu)\n",
    "print (\"Tich cua 2 so a va b la: \",Tich)\n",
    "print (\"Thuong cua 2 so a va b la: \",Thuong)"
   ]
  },
  {
   "cell_type": "code",
   "execution_count": 12,
   "id": "ccc8eab4-e4b4-4b19-93e1-cb0a0c1930d7",
   "metadata": {},
   "outputs": [
    {
     "name": "stdout",
     "output_type": "stream",
     "text": [
      "24\n",
      "Python Programming\n",
      "   python programming   \n",
      "   PYTHON PROGRAMMING   \n"
     ]
    }
   ],
   "source": [
    "# Bài tập Bài 2 – Xử lý chuỗi\n",
    "# Bài 1\n",
    "n = \"   Python Programming   \"\n",
    "len(n) #In độ dài chuỗi (dùng len).\n",
    "n.strip() # In chuỗi sau khi bỏ khoảng trắng dư ở đầu và cuối (dùng strip).\n",
    "n.lower() # In chuỗi viết thường toàn bộ (lower).\n",
    "n.upper() # In chuỗi viết hoa toàn bộ (upper).\n",
    "print(len(n))\n",
    "print(n.strip())\n",
    "print(n.lower())\n",
    "print(n.upper())"
   ]
  },
  {
   "cell_type": "code",
   "execution_count": 22,
   "id": "3eda119d-eaf3-4b91-b107-926e2492de6e",
   "metadata": {},
   "outputs": [
    {
     "name": "stdout",
     "output_type": "stream",
     "text": [
      "Do dai chuoi ban dau la:  31\n",
      "Ten moi cua chuoi la:  I love Data science, Data science is great!\n",
      "Do dai chuoi sau thay the la:  43\n"
     ]
    }
   ],
   "source": [
    "# Bài 2\n",
    "s =\"I love Python, Python is great!\"\n",
    "len(s) # dem do dai chuoi \n",
    "n= s.replace(\"Python\",\"Data science\") #Thay từ \"Python\" thành \"Data Science\".\n",
    "len(n) # In chuỗi sau khi thay thế.\n",
    "print (\"Do dai chuoi ban dau la: \",len(s))\n",
    "print (\"Ten moi cua chuoi la: \", n)\n",
    "print (\"Do dai chuoi sau thay the la: \",len(n))"
   ]
  },
  {
   "cell_type": "code",
   "execution_count": null,
   "id": "a037ac7c-a97b-40db-83b7-f13a0a103e87",
   "metadata": {},
   "outputs": [],
   "source": [
    "# Bài 3\n",
    "Ten = input(\"Nhap vao ho ten\")\n",
    "n=Ten.split(\"\")\n"
   ]
  },
  {
   "cell_type": "code",
   "execution_count": null,
   "id": "2786f58e-9423-4876-b370-b7a6f70a9ff9",
   "metadata": {},
   "outputs": [],
   "source": []
  }
 ],
 "metadata": {
  "kernelspec": {
   "display_name": "Python [conda env:base] *",
   "language": "python",
   "name": "conda-base-py"
  },
  "language_info": {
   "codemirror_mode": {
    "name": "ipython",
    "version": 3
   },
   "file_extension": ".py",
   "mimetype": "text/x-python",
   "name": "python",
   "nbconvert_exporter": "python",
   "pygments_lexer": "ipython3",
   "version": "3.13.5"
  }
 },
 "nbformat": 4,
 "nbformat_minor": 5
}
